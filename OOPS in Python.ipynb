{
 "cells": [
  {
   "cell_type": "markdown",
   "id": "4ac39e7a",
   "metadata": {},
   "source": [
    "# ************************** OOPS Concept in PYTHON **********************************"
   ]
  },
  {
   "cell_type": "code",
   "execution_count": 1,
   "id": "50061825",
   "metadata": {},
   "outputs": [
    {
     "name": "stdout",
     "output_type": "stream",
     "text": [
      "hello this is init function\n"
     ]
    }
   ],
   "source": [
    "class student:                  # CREATING A CLASS ..\n",
    "    def __init__(self):         # Init METHOD IS Same as Constructor in Other language.. & self is used as This Keyword in java...\n",
    "        print(\"hello this is init function\")\n",
    "st=student()                    # Creating an Object TO the student class..\n",
    "\n",
    "        "
   ]
  },
  {
   "cell_type": "code",
   "execution_count": 2,
   "id": "4513b899",
   "metadata": {},
   "outputs": [
    {
     "name": "stdout",
     "output_type": "stream",
     "text": [
      "the student name is chandu and roll number is 11902848\n"
     ]
    }
   ],
   "source": [
    "class student1:\n",
    "    def __init__(self,name,roll):       # Init METHOD With Parametrs   \n",
    "        print(\"the student name is \"+name+\" and roll number is {}\".format(roll))\n",
    "st1=student1(\"chandu\",11902848)"
   ]
  },
  {
   "cell_type": "code",
   "execution_count": 3,
   "id": "aa2e4670",
   "metadata": {},
   "outputs": [
    {
     "name": "stdout",
     "output_type": "stream",
     "text": [
      "the student name is chandu and roll number is 11902848\n",
      "chandu 11902848\n"
     ]
    }
   ],
   "source": [
    "class student2:\n",
    "    def __init__(self,name,roll):\n",
    "        self.n=name;\n",
    "        self.r=roll;\n",
    "        print(\"the student name is \"+self.n+\" and roll number is {}\".format(self.r))\n",
    "        \n",
    "    def fun1(self):\n",
    "        print(self.n,self.r)\n",
    "        \n",
    "st=student2(\"chandu\",11902848)\n",
    "\n",
    "st.fun1()\n",
    "        "
   ]
  },
  {
   "cell_type": "code",
   "execution_count": 4,
   "id": "0d73a7c0",
   "metadata": {},
   "outputs": [
    {
     "name": "stdout",
     "output_type": "stream",
     "text": [
      "3009402858544\n"
     ]
    }
   ],
   "source": [
    "a=25\n",
    "print(id(a))         # id is nothing but Address.....\n"
   ]
  },
  {
   "cell_type": "code",
   "execution_count": 5,
   "id": "a86681dc",
   "metadata": {},
   "outputs": [
    {
     "name": "stdout",
     "output_type": "stream",
     "text": [
      "hello\n",
      "3009475690304\n",
      "3009476634704\n"
     ]
    }
   ],
   "source": [
    "class stu:\n",
    "    pass          # class cannot be empty so we have used pass.......\n",
    "    print(\"hello\")\n",
    "s1=stu()\n",
    "s2=stu()\n",
    "print(id(s1))       \n",
    "print(id(s2))\n",
    "\n",
    "# Here we have Observed that, FOr Two Objects there are different Address ...."
   ]
  },
  {
   "cell_type": "code",
   "execution_count": 6,
   "id": "635b8470",
   "metadata": {},
   "outputs": [
    {
     "name": "stdout",
     "output_type": "stream",
     "text": [
      "madhu   20\n",
      "chandu   24\n"
     ]
    }
   ],
   "source": [
    "class pract:\n",
    "    def __init__(self):\n",
    "        self.name=\"chandu\"\n",
    "        self.age=20\n",
    "    \n",
    "    def getdetails(self):        # Getdetails is a Function/Method Created by User..\n",
    "        print(self.name +\"  \",self.age)\n",
    "    \n",
    "p1=pract()\n",
    "p2=pract()\n",
    "\n",
    "p1.name=\"madhu\"\n",
    "p2.age=24\n",
    "\n",
    "p1.getdetails()            # CAlling the Function getdetails by p1 object..\n",
    "\n",
    "p2.getdetails()"
   ]
  },
  {
   "cell_type": "code",
   "execution_count": 7,
   "id": "c74ca8b6",
   "metadata": {},
   "outputs": [
    {
     "name": "stdout",
     "output_type": "stream",
     "text": [
      "chandu   30\n",
      "chandu   30\n",
      "***************************************************\n",
      "yes\n",
      "***************************************************\n",
      "madhu   30\n",
      "chandu   30\n"
     ]
    }
   ],
   "source": [
    "class prac:\n",
    "    def __init__(self):\n",
    "        self.name=\"chandu\"\n",
    "        self.age=30\n",
    "    def getdetails(self):\n",
    "        print(self.name +\"  \",self.age)\n",
    "        \n",
    "    def compare(self,other):\n",
    "        if self.age==other.age:\n",
    "            return True\n",
    "        else:\n",
    "            return False\n",
    "    \n",
    "p1=prac()\n",
    "p2=prac()\n",
    "\n",
    "\n",
    "p1.getdetails()\n",
    "p2.getdetails()\n",
    "p1.name=\"madhu\"\n",
    "\n",
    "print(\"***************************************************\")\n",
    "if p1.compare(p2):\n",
    "    print(\"yes\")\n",
    "else:\n",
    "    print(\"no\")\n",
    "print(\"***************************************************\")\n",
    "\n",
    "\n",
    "p1.getdetails()\n",
    "p2.getdetails()"
   ]
  },
  {
   "cell_type": "code",
   "execution_count": 8,
   "id": "e766c96a",
   "metadata": {},
   "outputs": [
    {
     "name": "stdout",
     "output_type": "stream",
     "text": [
      "15 400 20\n",
      "15 1500 20\n"
     ]
    }
   ],
   "source": [
    "# instance and class varables:\n",
    "\n",
    "class var:\n",
    "    wheels=4         # THis is a Class varable... That means This can be called by using Class name....\n",
    "    \n",
    "    def __init__(self):\n",
    "        self.mea=15\n",
    "        self.speed=1500\n",
    "        \n",
    "v1=var()\n",
    "v2=var()\n",
    "\n",
    "v1.speed=400\n",
    "var.wheels=20\n",
    "\n",
    "print(v1.mea,v1.speed,v1.wheels)\n",
    "print(v2.mea,v2.speed,v2.wheels)"
   ]
  },
  {
   "cell_type": "code",
   "execution_count": 9,
   "id": "a72018df",
   "metadata": {},
   "outputs": [
    {
     "name": "stdout",
     "output_type": "stream",
     "text": [
      "madhu 11254\n",
      "chandu 11254\n"
     ]
    }
   ],
   "source": [
    "class practical1:\n",
    "    def setdata(self):\n",
    "        self.name=\"chandu\"\n",
    "        self.roll=11254\n",
    "        \n",
    "    def getdata(self):\n",
    "        print(self.name,self.roll)\n",
    "\n",
    "    \n",
    "p1=practical1()\n",
    "p2=practical1()\n",
    "\n",
    "p1.setdata()\n",
    "p2.setdata()\n",
    "        \n",
    "p1.name=\"madhu\"\n",
    "\n",
    "p1.getdata()\n",
    "p2.getdata()"
   ]
  },
  {
   "cell_type": "code",
   "execution_count": 10,
   "id": "3b8166bc",
   "metadata": {},
   "outputs": [
    {
     "name": "stdout",
     "output_type": "stream",
     "text": [
      "Learn python programming\n"
     ]
    }
   ],
   "source": [
    "# instance , class, static methods.......................................\n",
    "\n",
    "class student:\n",
    "    school=\"DAV\"\n",
    "    def __init__(self):\n",
    "         self.name=\"chandu\"\n",
    "\n",
    "    @classmethod\n",
    "    def info(cls):\n",
    "        print(cls.school)\n",
    "    \n",
    "    @staticmethod\n",
    "    def info():\n",
    "        print(\"Learn python programming\")\n",
    "        \n",
    "        \n",
    "s=student()\n",
    "student.info()"
   ]
  },
  {
   "cell_type": "code",
   "execution_count": 11,
   "id": "3481edb9",
   "metadata": {},
   "outputs": [
    {
     "name": "stdout",
     "output_type": "stream",
     "text": [
      "25 python\n",
      "iphone 128gb 5000\n",
      "i am an get phone method\n",
      "25 python\n",
      "iphone 128gb 5000\n",
      "i am an get phone method\n",
      "iphone\n",
      "--------------------------------\n",
      "3009476813056\n",
      "3009476814448\n"
     ]
    }
   ],
   "source": [
    "# inner class----------------------------\n",
    "\n",
    "class student:\n",
    "    def __init__(self):\n",
    "        self.name=\"python\"\n",
    "        self.age=25\n",
    "        print(self.age,self.name)\n",
    "        self.ph=self.phone()\n",
    "        self.ph.getphone()\n",
    "        \n",
    "    \n",
    "    class phone:\n",
    "        def __init__(self):\n",
    "            self.brand=\"iphone\"\n",
    "            self.ram=\"128gb\"\n",
    "            self.charge=5000\n",
    "            print(self.brand, self.ram, self.charge)\n",
    "            \n",
    "        def getphone(self):\n",
    "            print(\"i am an get phone method\")\n",
    "            \n",
    "    \n",
    "            \n",
    "st=student()\n",
    "st2=student()\n",
    "\n",
    "print(st.ph.brand)\n",
    "\n",
    "lap1=st.ph\n",
    "lap2=st2.ph\n",
    "\n",
    "\n",
    "#lap1=student.laptop()         this  is acccessing the laptop object..................\n",
    "\n",
    "#st.ph.getphone()\n",
    "\n",
    "print(\"--------------------------------\")\n",
    "print(id(lap1))\n",
    "print(id(lap2))"
   ]
  },
  {
   "cell_type": "code",
   "execution_count": 12,
   "id": "d71c4863",
   "metadata": {},
   "outputs": [
    {
     "name": "stdout",
     "output_type": "stream",
     "text": [
      "this is class A constructor\n",
      "this is class C constructor\n",
      "hello class A\n",
      "hello class c\n",
      "hello class c\n",
      "hello class A-1\n",
      "*******************************\n",
      "*******************************\n",
      "*******************************\n",
      "this is class A constructor\n",
      "this b COnstructor\n",
      "hello class A\n",
      "hello class A-1\n",
      "hello class B\n",
      "hello class B-1\n"
     ]
    }
   ],
   "source": [
    "# inhertiance in python------> Single level and Multiple Inheritance............\n",
    "\n",
    "class A:\n",
    "    def __init__(self):\n",
    "        print(\"this is class A constructor\")\n",
    "    def feature(self):\n",
    "        print(\"hello class A\")\n",
    "        \n",
    "    \n",
    "    def feature2(self):\n",
    "        print(\"hello class A-1\")\n",
    "        \n",
    "class B(A):\n",
    "    def __init__(self):\n",
    "        super().__init__()\n",
    "        print(\"this b COnstructor\")\n",
    "    def feature3(self):\n",
    "        print(\"hello class B\")\n",
    "        \n",
    "    def feature4(self):\n",
    "        print(\"hello class B-1\")\n",
    "        \n",
    "class C(A):\n",
    "    def __init__(self):\n",
    "        super().__init__()\n",
    "        print(\"this is class C constructor\")\n",
    "    def feature5(self):\n",
    "        print(\"hello class c\")\n",
    "        \n",
    "    def feature6(self):\n",
    "        print(\"hello class c-1\")\n",
    "        \n",
    "obj=C()\n",
    "obj.feature()\n",
    "obj.feature5()\n",
    "obj.feature5()\n",
    "obj.feature2()\n",
    "\n",
    "print(\"*******************************\")\n",
    "print(\"*******************************\")\n",
    "print(\"*******************************\")\n",
    "\n",
    "obj1=B()\n",
    "obj1.feature()\n",
    "obj1.feature2()\n",
    "obj1.feature3()\n",
    "obj1.feature4()\n",
    "\n"
   ]
  },
  {
   "cell_type": "code",
   "execution_count": 13,
   "id": "1f89f612",
   "metadata": {},
   "outputs": [
    {
     "name": "stdout",
     "output_type": "stream",
     "text": [
      "this is class B constructor\n",
      "this is class C constructor\n",
      "Hello A class\n",
      "Hello class B\n",
      "Hello class c\n"
     ]
    }
   ],
   "source": [
    "# Multi Level Inheritance.................\n",
    "\n",
    "class A:\n",
    "    def __init__(self):\n",
    "        print(\"this is class A constructor\")\n",
    "    def feature(self):\n",
    "        print(\"Hello A class\")\n",
    "    \n",
    "class B(A):\n",
    "    def __init__(self):\n",
    "        print(\"this is class B constructor\")\n",
    "    def feature1(self):\n",
    "        print(\"Hello class B\")\n",
    "    \n",
    "class C(B):\n",
    "    def __init__(self):\n",
    "        super().__init__()\n",
    "        print(\"this is class C constructor\")\n",
    "    def feature2(self):\n",
    "        print(\"Hello class c\")\n",
    "        \n",
    "obj1=C()\n",
    "obj1.feature()\n",
    "obj1.feature1()\n",
    "obj1.feature2()"
   ]
  },
  {
   "cell_type": "code",
   "execution_count": null,
   "id": "ec85d798",
   "metadata": {},
   "outputs": [],
   "source": []
  },
  {
   "cell_type": "code",
   "execution_count": 14,
   "id": "4f41ab89",
   "metadata": {},
   "outputs": [
    {
     "name": "stdout",
     "output_type": "stream",
     "text": [
      "this is class A constructor\n",
      "this is class C constructor\n",
      "Hello class A\n",
      "Hello class B\n",
      "Hello class c\n"
     ]
    }
   ],
   "source": [
    "class A:\n",
    "    def __init__(self):\n",
    "        print(\"this is class A constructor\")\n",
    "        \n",
    "    def feature(self):\n",
    "        print(\"Hello class A\")\n",
    "    \n",
    "class B:\n",
    "    def __init__(self):\n",
    "        print(\"this is class B constructor\")\n",
    "        \n",
    "    def feature1(self):\n",
    "        print(\"Hello class B\")\n",
    "    \n",
    "class C(A,B):\n",
    "    def __init__(self):\n",
    "        super().__init__()\n",
    "        print(\"this is class C constructor\")\n",
    "        \n",
    "    def feature2(self):\n",
    "        print(\"Hello class c\")\n",
    "        \n",
    "obj1=C()\n",
    "obj1.feature()\n",
    "obj1.feature1()\n",
    "obj1.feature2()"
   ]
  },
  {
   "cell_type": "code",
   "execution_count": 15,
   "id": "493e451e",
   "metadata": {},
   "outputs": [
    {
     "name": "stdout",
     "output_type": "stream",
     "text": [
      "this is class A constructor\n",
      "this is class C constructor\n",
      "Hello class A\n",
      "Hello class c\n"
     ]
    }
   ],
   "source": [
    "# Method Resolution Order =------> From left to Right............................\n",
    "\n",
    "class A:\n",
    "    def __init__(self):\n",
    "        print(\"this is class A constructor\")\n",
    "        \n",
    "    def feature(self):                          # This function is same --->1\n",
    "        print(\"Hello class A\")\n",
    "    \n",
    "class B:\n",
    "    def __init__(self):\n",
    "        print(\"this is class B constructor\")\n",
    "        \n",
    "    def feature(self):                          # This function is same --->2 but Selects 1 eQUATION Beacuse from Left By MRO...\n",
    "        print(\"Hello class B\")\n",
    "    \n",
    "class C(A,B):\n",
    "    def __init__(self):\n",
    "        super().__init__()\n",
    "        print(\"this is class C constructor\")\n",
    "        \n",
    "    def feature2(self):\n",
    "        print(\"Hello class c\")\n",
    "        \n",
    "obj1=C()\n",
    "obj1.feature()\n",
    "\n",
    "obj1.feature2()\n"
   ]
  },
  {
   "cell_type": "code",
   "execution_count": null,
   "id": "eaa5313d",
   "metadata": {},
   "outputs": [],
   "source": [
    "\n"
   ]
  },
  {
   "cell_type": "code",
   "execution_count": 16,
   "id": "a3b84ee7",
   "metadata": {},
   "outputs": [
    {
     "name": "stdout",
     "output_type": "stream",
     "text": [
      "Game\n",
      "Sports\n",
      "Cricket\n"
     ]
    }
   ],
   "source": [
    "# iterator/iterable in Python\n",
    "\n",
    "mytuple=(\"Game\",\"Sports\",\"Cricket\")\n",
    "m1=iter(mytuple)\n",
    "\n",
    "print(next(m1))\n",
    "print(next(m1))\n",
    "print(next(m1))\n"
   ]
  },
  {
   "cell_type": "code",
   "execution_count": 17,
   "id": "26903ba0",
   "metadata": {},
   "outputs": [
    {
     "name": "stdout",
     "output_type": "stream",
     "text": [
      "1\n",
      "2\n",
      "3\n",
      "4\n",
      "5\n",
      "6\n"
     ]
    }
   ],
   "source": [
    "# MAking iterable by functions:\n",
    "\n",
    "class class1:\n",
    "    def __iter__(self):\n",
    "        self.a=1\n",
    "        return self\n",
    "    \n",
    "    def __next__(self):\n",
    "        x=self.a\n",
    "        self.a+=1\n",
    "        return x\n",
    "C1=class1()\n",
    "k1=iter(C1)\n",
    "\n",
    "print(next(k1))\n",
    "print(next(k1))\n",
    "print(next(k1))\n",
    "print(next(k1))\n",
    "print(next(k1))\n",
    "print(next(k1))\n"
   ]
  },
  {
   "cell_type": "code",
   "execution_count": 18,
   "id": "3948cb20",
   "metadata": {},
   "outputs": [
    {
     "name": "stdout",
     "output_type": "stream",
     "text": [
      "spell check\n",
      "autosave\n",
      "commplilling\n",
      "running\n"
     ]
    }
   ],
   "source": [
    "# polymorhism------------------------------------\n",
    "\n",
    "# Duck Typing:--------------------------------------------------------\n",
    "\n",
    "class pycharm:\n",
    "    def execute(self):\n",
    "        print(\"compliling\")\n",
    "        print(\"running\")\n",
    "\n",
    "class myIDE:\n",
    "    def execute(self):\n",
    "        print(\"spell check\")\n",
    "        print(\"autosave\")\n",
    "        print(\"commplilling\")\n",
    "        print(\"running\")\n",
    "\n",
    "class laptop:\n",
    "    def code(self,ide):\n",
    "        ide.execute()\n",
    "        \n",
    "        \n",
    "ide=myIDE()\n",
    "\n",
    "lap1=laptop()\n",
    "lap1.code(ide)"
   ]
  },
  {
   "cell_type": "code",
   "execution_count": 19,
   "id": "df0cbeba",
   "metadata": {},
   "outputs": [
    {
     "name": "stdout",
     "output_type": "stream",
     "text": [
      "30\n",
      "-10\n",
      "200\n"
     ]
    }
   ],
   "source": [
    "# polymorhism------------------------------------\n",
    "\n",
    "#Operator overloading----------------------------\n",
    "\n",
    "\n",
    "print(int.__add__(10,20))\n",
    "print(int.__sub__(10,20))\n",
    "print(int.__mul__(10,20))"
   ]
  },
  {
   "cell_type": "code",
   "execution_count": 20,
   "id": "cda0def8",
   "metadata": {},
   "outputs": [
    {
     "name": "stdout",
     "output_type": "stream",
     "text": [
      "95\n"
     ]
    }
   ],
   "source": [
    "#operator overloading................\n",
    "\n",
    "class mai:\n",
    "    def __init__(self,m1,m2):\n",
    "        self.m1=m1\n",
    "        self.m2=m2\n",
    "        \n",
    "    def __add__(self,other):\n",
    "        m1=self.m1+other.m2\n",
    "        m2=self.m1+other.m2\n",
    "        s3=mai(m1,m2)\n",
    "        return s3\n",
    "        \n",
    "s1=mai(50,32)\n",
    "s2=mai(25,45)\n",
    "\n",
    "s3=s1+s2\n",
    "print(s3.m1)\n"
   ]
  },
  {
   "cell_type": "code",
   "execution_count": 21,
   "id": "64a3ea51",
   "metadata": {},
   "outputs": [
    {
     "name": "stdout",
     "output_type": "stream",
     "text": [
      "s1 is bg\n"
     ]
    }
   ],
   "source": [
    "# operator overloading................\n",
    "\n",
    "class mai:\n",
    "    def __init__(self, m1, m2):\n",
    "        self.m1 = m1\n",
    "        self.m2 = m2\n",
    "\n",
    "    def __add__(self, other):\n",
    "        m1 = self.m1 + other.m2\n",
    "        m2 = self.m1 + other.m2\n",
    "        s3 = mai(m1, m2)\n",
    "        return s3\n",
    "\n",
    "    def __gt__(self, other):\n",
    "        s1=self.m1+self.m2\n",
    "        s2=other.m1+other.m2\n",
    "        if(s1>s2):\n",
    "            return True\n",
    "        else:\n",
    "            return False\n",
    "\n",
    "s1 = mai(50, 32)\n",
    "s2 = mai(25, 45)\n",
    "\n",
    "s3 = s1 + s2\n",
    "\n",
    "if s1>s2:\n",
    "    print(\"s1 is bg\")\n",
    "\n",
    "else:\n",
    "    print(\"s2 is bg\")\n",
    "\n",
    "\n"
   ]
  },
  {
   "cell_type": "code",
   "execution_count": 22,
   "id": "810e9ea6",
   "metadata": {},
   "outputs": [
    {
     "name": "stdout",
     "output_type": "stream",
     "text": [
      "50 32\n",
      "25 45\n"
     ]
    }
   ],
   "source": [
    "# operator overloading................\n",
    "\n",
    "class mai:\n",
    "    def __init__(self, m1, m2):\n",
    "        self.m1 = m1\n",
    "        self.m2 = m2\n",
    "    \n",
    "    def __str__(self):\n",
    "        return \"{} {}\".format(self.m1,self.m2)\n",
    "\n",
    "s1 = mai(50, 32)\n",
    "s2 = mai(25, 45)\n",
    "\n",
    "print(s1)    # It is printing Adress of the object.. \n",
    "\n",
    "print(s2)"
   ]
  },
  {
   "cell_type": "code",
   "execution_count": 23,
   "id": "fc8cecef",
   "metadata": {},
   "outputs": [
    {
     "data": {
      "text/plain": [
       "'\\n+      __add__(self,other)\\n-      __sub__(self,other)\\n/      __div__(self,other)\\n*      __mul__(self,other)\\n<      __lt__(self,other)\\n>      __gt__(self,other)\\n>=     __ge__(self,other)\\n'"
      ]
     },
     "execution_count": 23,
     "metadata": {},
     "output_type": "execute_result"
    }
   ],
   "source": [
    "'''\n",
    "+      __add__(self,other)\n",
    "-      __sub__(self,other)\n",
    "/      __div__(self,other)\n",
    "*      __mul__(self,other)\n",
    "<      __lt__(self,other)\n",
    ">      __gt__(self,other)\n",
    ">=     __ge__(self,other)\n",
    "'''"
   ]
  },
  {
   "cell_type": "code",
   "execution_count": 24,
   "id": "39925c5c",
   "metadata": {},
   "outputs": [
    {
     "name": "stdout",
     "output_type": "stream",
     "text": [
      "12\n"
     ]
    }
   ],
   "source": [
    "# Method overloading Model because we dont have it in python\n",
    "\n",
    "class add:\n",
    "    \n",
    "    def adddata(self,a=None,b=None,c=None):\n",
    "        if a!=None and b!=None and c!=None:\n",
    "            print(a+b+c)\n",
    "        elif a!=None and b!=None:\n",
    "            print(a+b)\n",
    "        else:\n",
    "            print(a)\n",
    "        \n",
    "        \n",
    "        \n",
    "a1=add()\n",
    "a1.adddata(12)"
   ]
  },
  {
   "cell_type": "code",
   "execution_count": 25,
   "id": "4994cfaa",
   "metadata": {},
   "outputs": [
    {
     "name": "stdout",
     "output_type": "stream",
     "text": [
      "chandu 1245\n",
      "this is parent class chandu\n"
     ]
    }
   ],
   "source": [
    "class student:\n",
    "    def __init__(self,Name=None,roll=None):\n",
    "        self.Name=Name\n",
    "        self.roll=roll\n",
    "        print(self.Name,self.roll)\n",
    "        \n",
    "    def getdata(k):   # self or K any thing can be used in place of self...........\n",
    "        print(\"data name: \",k.Name)\n",
    "        print(\"data roll: \",k.roll)\n",
    "        \n",
    "class parent(student):\n",
    "    def getdata(self):\n",
    "        print(\"this is parent class\",self.Name)\n",
    "        \n",
    "s1=parent(\"chandu\",1245)\n",
    "\n",
    "s1.getdata()"
   ]
  },
  {
   "cell_type": "code",
   "execution_count": null,
   "id": "97fdfc14",
   "metadata": {},
   "outputs": [],
   "source": []
  },
  {
   "cell_type": "code",
   "execution_count": null,
   "id": "15a63fef",
   "metadata": {},
   "outputs": [],
   "source": []
  }
 ],
 "metadata": {
  "kernelspec": {
   "display_name": "Python 3 (ipykernel)",
   "language": "python",
   "name": "python3"
  },
  "language_info": {
   "codemirror_mode": {
    "name": "ipython",
    "version": 3
   },
   "file_extension": ".py",
   "mimetype": "text/x-python",
   "name": "python",
   "nbconvert_exporter": "python",
   "pygments_lexer": "ipython3",
   "version": "3.9.5"
  }
 },
 "nbformat": 4,
 "nbformat_minor": 5
}
